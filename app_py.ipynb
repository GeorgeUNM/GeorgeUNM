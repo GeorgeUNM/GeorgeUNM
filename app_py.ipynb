{
  "nbformat": 4,
  "nbformat_minor": 0,
  "metadata": {
    "colab": {
      "provenance": [],
      "authorship_tag": "ABX9TyM1gJEiVNMZMTwcwazaofmn",
      "include_colab_link": true
    },
    "kernelspec": {
      "name": "python3",
      "display_name": "Python 3"
    },
    "language_info": {
      "name": "python"
    }
  },
  "cells": [
    {
      "cell_type": "markdown",
      "metadata": {
        "id": "view-in-github",
        "colab_type": "text"
      },
      "source": [
        "<a href=\"https://colab.research.google.com/github/GeorgeUNM/GeorgeUNM/blob/main/app_py.ipynb\" target=\"_parent\"><img src=\"https://colab.research.google.com/assets/colab-badge.svg\" alt=\"Open In Colab\"/></a>"
      ]
    },
    {
      "cell_type": "code",
      "source": [
        "import streamlit as st\n",
        "import pandas as pd\n",
        "# Title of the app\n",
        "st.title('Interactive Sales Data Visualization App')\n",
        "\n",
        "# Pre-loaded dataset for sales information\n",
        "data = {\n",
        "    'Product': ['Product A', 'Product B', 'Product C', 'Product D', 'Product E'],\n",
        "    'Sales (Thousands USD)': [150, 200, 300, 400, 250],\n",
        "    'Quantity Sold': [30, 45, 55, 65, 50]\n",
        "}\n",
        "df = pd.DataFrame(data)\n",
        "\n",
        "# Display the dataset\n",
        "st.write(\"Sales Data:\")\n",
        "st.write(df)\n",
        "\n",
        "# Let the user select columns for the chart\n",
        "columns = df.columns.tolist()\n",
        "\n",
        "# Dropdowns for X and Y axes selection\n",
        "x_axis = st.selectbox('Select column for X-axis', columns)\n",
        "y_axis = st.selectbox('Select column for Y-axis', columns)\n",
        "\n",
        "# Choose chart type: Bar Chart or Line Chart\n",
        "chart_type = st.selectbox('Select chart type', ['Bar Chart', 'Line Chart'])\n",
        "\n",
        "# Display chart based on user selections\n",
        "if chart_type == 'Bar Chart':\n",
        "    st.bar_chart(df[[x_axis, y_axis]].set_index(x_axis))\n",
        "elif chart_type == 'Line Chart':\n",
        "    st.line_chart(df[[x_axis, y_axis]].set_index(x_axis))\n",
        ""
      ],
      "metadata": {
        "colab": {
          "base_uri": "https://localhost:8080/"
        },
        "id": "6o-rPHXj2Maf",
        "outputId": "cff6a150-bb15-4eaa-c993-7d42dd385d2f"
      },
      "execution_count": 4,
      "outputs": [
        {
          "output_type": "stream",
          "name": "stderr",
          "text": [
            "2024-10-08 20:36:34.801 WARNING streamlit.runtime.scriptrunner_utils.script_run_context: Thread 'MainThread': missing ScriptRunContext! This warning can be ignored when running in bare mode.\n",
            "2024-10-08 20:36:34.999 \n",
            "  \u001b[33m\u001b[1mWarning:\u001b[0m to view this Streamlit app on a browser, run it with the following\n",
            "  command:\n",
            "\n",
            "    streamlit run /usr/local/lib/python3.10/dist-packages/colab_kernel_launcher.py [ARGUMENTS]\n",
            "2024-10-08 20:36:35.007 Thread 'MainThread': missing ScriptRunContext! This warning can be ignored when running in bare mode.\n",
            "2024-10-08 20:36:35.016 Thread 'MainThread': missing ScriptRunContext! This warning can be ignored when running in bare mode.\n",
            "2024-10-08 20:36:35.018 Thread 'MainThread': missing ScriptRunContext! This warning can be ignored when running in bare mode.\n",
            "2024-10-08 20:36:35.021 Thread 'MainThread': missing ScriptRunContext! This warning can be ignored when running in bare mode.\n",
            "2024-10-08 20:36:35.023 Thread 'MainThread': missing ScriptRunContext! This warning can be ignored when running in bare mode.\n",
            "2024-10-08 20:36:35.060 Thread 'MainThread': missing ScriptRunContext! This warning can be ignored when running in bare mode.\n",
            "2024-10-08 20:36:35.063 Thread 'MainThread': missing ScriptRunContext! This warning can be ignored when running in bare mode.\n",
            "2024-10-08 20:36:35.065 Thread 'MainThread': missing ScriptRunContext! This warning can be ignored when running in bare mode.\n",
            "2024-10-08 20:36:35.068 Thread 'MainThread': missing ScriptRunContext! This warning can be ignored when running in bare mode.\n",
            "2024-10-08 20:36:35.071 Thread 'MainThread': missing ScriptRunContext! This warning can be ignored when running in bare mode.\n",
            "2024-10-08 20:36:35.073 Thread 'MainThread': missing ScriptRunContext! This warning can be ignored when running in bare mode.\n",
            "2024-10-08 20:36:35.079 Session state does not function when running a script without `streamlit run`\n",
            "2024-10-08 20:36:35.080 Thread 'MainThread': missing ScriptRunContext! This warning can be ignored when running in bare mode.\n",
            "2024-10-08 20:36:35.082 Thread 'MainThread': missing ScriptRunContext! This warning can be ignored when running in bare mode.\n",
            "2024-10-08 20:36:35.083 Thread 'MainThread': missing ScriptRunContext! This warning can be ignored when running in bare mode.\n",
            "2024-10-08 20:36:35.084 Thread 'MainThread': missing ScriptRunContext! This warning can be ignored when running in bare mode.\n",
            "2024-10-08 20:36:35.085 Thread 'MainThread': missing ScriptRunContext! This warning can be ignored when running in bare mode.\n",
            "2024-10-08 20:36:35.087 Thread 'MainThread': missing ScriptRunContext! This warning can be ignored when running in bare mode.\n",
            "2024-10-08 20:36:35.088 Thread 'MainThread': missing ScriptRunContext! This warning can be ignored when running in bare mode.\n",
            "2024-10-08 20:36:35.089 Thread 'MainThread': missing ScriptRunContext! This warning can be ignored when running in bare mode.\n",
            "2024-10-08 20:36:35.091 Thread 'MainThread': missing ScriptRunContext! This warning can be ignored when running in bare mode.\n",
            "2024-10-08 20:36:35.092 Thread 'MainThread': missing ScriptRunContext! This warning can be ignored when running in bare mode.\n",
            "2024-10-08 20:36:35.093 Thread 'MainThread': missing ScriptRunContext! This warning can be ignored when running in bare mode.\n",
            "2024-10-08 20:36:35.094 Thread 'MainThread': missing ScriptRunContext! This warning can be ignored when running in bare mode.\n",
            "2024-10-08 20:36:35.095 Thread 'MainThread': missing ScriptRunContext! This warning can be ignored when running in bare mode.\n",
            "2024-10-08 20:36:35.097 Thread 'MainThread': missing ScriptRunContext! This warning can be ignored when running in bare mode.\n",
            "2024-10-08 20:36:35.806 Thread 'MainThread': missing ScriptRunContext! This warning can be ignored when running in bare mode.\n",
            "2024-10-08 20:36:35.808 Thread 'MainThread': missing ScriptRunContext! This warning can be ignored when running in bare mode.\n"
          ]
        }
      ]
    }
  ]
}